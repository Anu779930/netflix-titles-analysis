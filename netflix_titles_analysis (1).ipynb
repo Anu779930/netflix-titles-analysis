{
 "cells": [
  {
   "cell_type": "code",
   "execution_count": 1,
   "id": "72ad76dc-e01d-4c27-93a1-32b8ea29df08",
   "metadata": {},
   "outputs": [],
   "source": [
    "import pandas as pd # importing pandas library\n",
    "import numpy as np # importing numpy library\n",
    "import matplotlib.pyplot as plt # importing pyplot module in matplotlib library \n",
    "data = pd.read_csv(\"C:\\\\Users\\\\vsanu\\\\Downloads\\\\archive (5)\\\\titles.csv\") # Reading the dataset"
   ]
  },
  {
   "cell_type": "code",
   "execution_count": 2,
   "id": "ec1808b3-ac88-4fe7-9705-a2fed24513ae",
   "metadata": {},
   "outputs": [
    {
     "data": {
      "text/plain": [
       "(5850, 15)"
      ]
     },
     "execution_count": 2,
     "metadata": {},
     "output_type": "execute_result"
    }
   ],
   "source": [
    "data.shape # finding the shape of the dataset as first value indicates the number of rows and second value indicates number of columns in the dataset."
   ]
  },
  {
   "cell_type": "code",
   "execution_count": 3,
   "id": "633512b8-ecd7-47d7-8d13-bf62cbd3cffa",
   "metadata": {},
   "outputs": [
    {
     "data": {
      "text/plain": [
       "id                      0.000000\n",
       "title                   0.001140\n",
       "type                    0.000000\n",
       "description             0.020513\n",
       "release_year            0.000000\n",
       "age_certification       2.984615\n",
       "runtime                 0.000000\n",
       "genres                  0.000000\n",
       "production_countries    0.000000\n",
       "seasons                 4.266667\n",
       "imdb_id                 0.459259\n",
       "imdb_score              0.549288\n",
       "imdb_votes              0.567521\n",
       "tmdb_popularity         0.103704\n",
       "tmdb_score              0.354416\n",
       "dtype: float64"
      ]
     },
     "execution_count": 3,
     "metadata": {},
     "output_type": "execute_result"
    }
   ],
   "source": [
    "# Calculating the total number of missing values in the dataset\n",
    "missing = data.isnull().sum()\n",
    "\n",
    "# Calculating the total number of elements in the dataset\n",
    "elements = data.size\n",
    "\n",
    "# Calculating the percentage of missing values\n",
    "percentage_Missing = (missing / elements) * 100\n",
    "\n",
    "percentage_Missing"
   ]
  },
  {
   "cell_type": "code",
   "execution_count": 4,
   "id": "769915de-c637-447a-b741-6ef996cf16b3",
   "metadata": {},
   "outputs": [
    {
     "data": {
      "text/plain": [
       "9.307122507122507"
      ]
     },
     "execution_count": 4,
     "metadata": {},
     "output_type": "execute_result"
    }
   ],
   "source": [
    "# Calculating the total number of missing values in the dataset\n",
    "total_missing = data.isnull().sum().sum()\n",
    "\n",
    "# Calculating the total number of elements in the dataset\n",
    "total_elements = data.size\n",
    "\n",
    "# Calculating the percentage of missing values\n",
    "percentage_missing = (total_missing / total_elements) * 100\n",
    "\n",
    "percentage_missing"
   ]
  },
  {
   "cell_type": "markdown",
   "id": "81c737d5-adfe-4b3d-b929-5921bbde8773",
   "metadata": {},
   "source": [
    "Data Imputation"
   ]
  },
  {
   "cell_type": "code",
   "execution_count": 5,
   "id": "e3fd715b-f765-4af8-a082-c033106a4dc1",
   "metadata": {},
   "outputs": [],
   "source": [
    "data['tmdb_score'] = data['tmdb_score'].fillna(np.min(data['tmdb_score'])) # Filling the missing values in the tmdb_score column using fillna\n",
    "data['imdb_score'] = data['imdb_score'].fillna(np.min(data['imdb_score'])) # Filling the missing values in the imdb_score column using fillna\n",
    "data['imdb_votes'] = data['imdb_votes'].fillna(np.min(data['imdb_votes'])) # Filling the missing values in the imdb_votes column using fillna\n",
    "data['seasons'] = data['seasons'].fillna(1) # filled with 1 considering that atleast 1 season will be there for movie or show"
   ]
  },
  {
   "cell_type": "code",
   "execution_count": 6,
   "id": "b6d5f745-65ee-4fc5-8f63-78ce8060639b",
   "metadata": {},
   "outputs": [],
   "source": [
    "df = data.dropna() # deleting remaining missing values"
   ]
  },
  {
   "cell_type": "code",
   "execution_count": 7,
   "id": "53685290-53b7-42e9-80c5-c667abdd1eba",
   "metadata": {},
   "outputs": [
    {
     "data": {
      "text/plain": [
       "(3032, 15)"
      ]
     },
     "execution_count": 7,
     "metadata": {},
     "output_type": "execute_result"
    }
   ],
   "source": [
    "df.shape # finding the shape of the dataset after handeling the dataset"
   ]
  },
  {
   "cell_type": "markdown",
   "id": "4be86fd1-690b-4354-a32d-6d501c89d797",
   "metadata": {},
   "source": [
    "Question 1 : Provide the movie Type, Title, Release year and genre by entering the movie id."
   ]
  },
  {
   "cell_type": "code",
   "execution_count": 8,
   "id": "078efd70-229f-4a15-9c4f-9796baf35b7f",
   "metadata": {},
   "outputs": [
    {
     "name": "stdin",
     "output_type": "stream",
     "text": [
      "Enter the id of the movie:  tm172504\n"
     ]
    },
    {
     "name": "stdout",
     "output_type": "stream",
     "text": [
      "Details of the movie with ID tm172504:  There is no movie with this movie_id\n"
     ]
    }
   ],
   "source": [
    "def get_movie_details(movie_id, df):\n",
    "   # movie_id is the unique identifier of the movie for which details are being requested. \n",
    "   # df is the DataFrame containing movie information.  \n",
    "    \n",
    "    movie_details = df[df['id'] == movie_id] # To filter the dataframe for the given movie ID\n",
    "\n",
    "    if len(movie_details) > 0: # To check if the movie is found by checking the length of the filtered dataframe\n",
    "        details = movie_details.iloc[0] # .iloc[0] is used to extracts the first row from movie_details, if the movie is found in the dataset.\n",
    "        return {\n",
    "            \"Title\": details['title'],\n",
    "            \"Type\": details['type'],\n",
    "            \"Genre\": details['genres'],\n",
    "            \"Release Year\": details['release_year']\n",
    "            \n",
    "        }\n",
    "    else:\n",
    "        return \"There is no movie with this movie_id\"\n",
    "\n",
    "movie_id = input(\"Enter the id of the movie: \") # user input for entering the movie id \n",
    "print(\"Details of the movie with ID \" + movie_id + \": \", get_movie_details(movie_id, df))\n"
   ]
  },
  {
   "cell_type": "markdown",
   "id": "387d366d-2552-4eb9-836b-130f64169ca6",
   "metadata": {},
   "source": [
    "Question 2: Number of shows and movies are done on particular years."
   ]
  },
  {
   "cell_type": "code",
   "execution_count": 9,
   "id": "19c9f1d2-5b04-4bd8-a219-3722cf807fe5",
   "metadata": {},
   "outputs": [
    {
     "name": "stdout",
     "output_type": "stream",
     "text": [
      "The yearly counts of movies and shows are:\n",
      "type          MOVIE  SHOW\n",
      "release_year             \n",
      "1971              1     0\n",
      "1972              2     1\n",
      "1975              1     0\n",
      "1976              1     0\n",
      "1977              1     0\n",
      "1979              2     0\n",
      "1980              1     0\n"
     ]
    }
   ],
   "source": [
    "movies_year = df[(df['release_year'] >= 1970) & (df['release_year'] <= 1980)] # Filtering the DataFrame for movies/shows released between the years we wanted\n",
    "\n",
    "# Grouping the filtered data by 'type' and 'release_year' and counting the occurrences\n",
    "yearly_counts = movies_year.groupby(['release_year', 'type']).size().unstack(fill_value=0) # groupby is used to grouping consecutive elements in an iterable that have the same value.\n",
    "# unstack is used to reshape the given pandas dataframe by transposing specified row level to column level.\n",
    "print(\"The yearly counts of movies and shows are:\")\n",
    "print(yearly_counts)\n"
   ]
  },
  {
   "cell_type": "markdown",
   "id": "fc9fc08e-c080-43b8-accf-948857400af1",
   "metadata": {},
   "source": [
    "question 3: Is there any correlation between IMDB votes and IMDB Score?"
   ]
  },
  {
   "cell_type": "code",
   "execution_count": 10,
   "id": "f81d8f0f-9e3d-4a72-ae00-3a213fff1bf5",
   "metadata": {},
   "outputs": [
    {
     "data": {
      "text/plain": [
       "0.2054106664260018"
      ]
     },
     "execution_count": 10,
     "metadata": {},
     "output_type": "execute_result"
    }
   ],
   "source": [
    "# Calculating the Pearson correlation coefficient between imdb_votes and imdb_score\n",
    "correlation = df[['imdb_votes', 'imdb_score']].corr(method='pearson') # correlation is used to find relation between two variables.\n",
    "# pearson is the most commonly used correlation coefficient \n",
    "\n",
    "# Displaying the correlation coefficient\n",
    "correlation_runtime_imdb_score = correlation.at['imdb_votes', 'imdb_score']\n",
    "correlation_runtime_imdb_score"
   ]
  },
  {
   "cell_type": "markdown",
   "id": "380c6a42-e836-4e1a-8cd0-e660e8c5b57e",
   "metadata": {},
   "source": [
    "This value suggests a weak positive correlation between the two variables. In other words, there is a slight tendency for movies with more IMDb votes to have higher IMDb scores, but the correlation is not strong."
   ]
  },
  {
   "cell_type": "markdown",
   "id": "f494aacf-3098-4784-9f2f-acebdd2107be",
   "metadata": {},
   "source": [
    "Question 4: How many movies and shows are with runtime 150 or more."
   ]
  },
  {
   "cell_type": "code",
   "execution_count": 11,
   "id": "47f3fe8e-8e8b-427a-91e1-684a14271e90",
   "metadata": {},
   "outputs": [
    {
     "name": "stdout",
     "output_type": "stream",
     "text": [
      "Number of Movies with runtime 150 or more: 76\n",
      "Number of Shows with runtime 150 or more: 1\n"
     ]
    }
   ],
   "source": [
    "# initiating movie and show count as 0\n",
    "movie_count = 0\n",
    "show_count = 0\n",
    "\n",
    "for index, row in df.iterrows():\n",
    "    if row['runtime'] >= 150: # movies/shows with run time >= 150\n",
    "        if row['type'] == 'MOVIE': # selecting only movies\n",
    "            movie_count += 1 # incrementing the count of the movies\n",
    "        else:\n",
    "            show_count += 1 # incrementing the count of the shows\n",
    "print(\"Number of Movies with runtime 150 or more:\", movie_count)\n",
    "print(\"Number of Shows with runtime 150 or more:\", show_count)"
   ]
  },
  {
   "cell_type": "markdown",
   "id": "20aa07af-31ff-4758-95d1-02442081d1f0",
   "metadata": {},
   "source": [
    "Question 5: what is the best movie in every decade according to the rating?"
   ]
  },
  {
   "cell_type": "code",
   "execution_count": 12,
   "id": "c067819c-0dfa-41cd-99ce-f4d2efac429d",
   "metadata": {},
   "outputs": [
    {
     "data": {
      "text/html": [
       "<div>\n",
       "<style scoped>\n",
       "    .dataframe tbody tr th:only-of-type {\n",
       "        vertical-align: middle;\n",
       "    }\n",
       "\n",
       "    .dataframe tbody tr th {\n",
       "        vertical-align: top;\n",
       "    }\n",
       "\n",
       "    .dataframe thead th {\n",
       "        text-align: right;\n",
       "    }\n",
       "</style>\n",
       "<table border=\"1\" class=\"dataframe\">\n",
       "  <thead>\n",
       "    <tr style=\"text-align: right;\">\n",
       "      <th></th>\n",
       "      <th>title</th>\n",
       "      <th>decade</th>\n",
       "      <th>imdb_score</th>\n",
       "      <th>tmdb_score</th>\n",
       "      <th>average_score</th>\n",
       "    </tr>\n",
       "  </thead>\n",
       "  <tbody>\n",
       "    <tr>\n",
       "      <th>0</th>\n",
       "      <td>Dharmakshetra</td>\n",
       "      <td>2010</td>\n",
       "      <td>8.3</td>\n",
       "      <td>10.000</td>\n",
       "      <td>9.1500</td>\n",
       "    </tr>\n",
       "    <tr>\n",
       "      <th>1</th>\n",
       "      <td>Breaking Bad</td>\n",
       "      <td>2000</td>\n",
       "      <td>9.5</td>\n",
       "      <td>8.790</td>\n",
       "      <td>9.1450</td>\n",
       "    </tr>\n",
       "    <tr>\n",
       "      <th>2</th>\n",
       "      <td>Arcane</td>\n",
       "      <td>2020</td>\n",
       "      <td>9.0</td>\n",
       "      <td>9.081</td>\n",
       "      <td>9.0405</td>\n",
       "    </tr>\n",
       "    <tr>\n",
       "      <th>3</th>\n",
       "      <td>One Piece</td>\n",
       "      <td>1990</td>\n",
       "      <td>8.8</td>\n",
       "      <td>8.764</td>\n",
       "      <td>8.7820</td>\n",
       "    </tr>\n",
       "    <tr>\n",
       "      <th>4</th>\n",
       "      <td>Seinfeld</td>\n",
       "      <td>1980</td>\n",
       "      <td>8.9</td>\n",
       "      <td>8.301</td>\n",
       "      <td>8.6005</td>\n",
       "    </tr>\n",
       "    <tr>\n",
       "      <th>5</th>\n",
       "      <td>Monty Python's Flying Circus</td>\n",
       "      <td>1960</td>\n",
       "      <td>8.8</td>\n",
       "      <td>8.306</td>\n",
       "      <td>8.5530</td>\n",
       "    </tr>\n",
       "    <tr>\n",
       "      <th>6</th>\n",
       "      <td>Taxi Driver</td>\n",
       "      <td>1970</td>\n",
       "      <td>8.2</td>\n",
       "      <td>8.179</td>\n",
       "      <td>8.1895</td>\n",
       "    </tr>\n",
       "  </tbody>\n",
       "</table>\n",
       "</div>"
      ],
      "text/plain": [
       "                          title  decade  imdb_score  tmdb_score  average_score\n",
       "0                 Dharmakshetra    2010         8.3      10.000         9.1500\n",
       "1                  Breaking Bad    2000         9.5       8.790         9.1450\n",
       "2                        Arcane    2020         9.0       9.081         9.0405\n",
       "3                     One Piece    1990         8.8       8.764         8.7820\n",
       "4                      Seinfeld    1980         8.9       8.301         8.6005\n",
       "5  Monty Python's Flying Circus    1960         8.8       8.306         8.5530\n",
       "6                   Taxi Driver    1970         8.2       8.179         8.1895"
      ]
     },
     "execution_count": 12,
     "metadata": {},
     "output_type": "execute_result"
    }
   ],
   "source": [
    "def top_movies_by_average_score_each_decade(df):\n",
    "    df_copy = df.copy()  # Creating a copy of the DataFrame\n",
    "    \n",
    "    df_copy['decade'] = (df_copy['release_year'] // 10) * 10 # calculating the decade column by using the release_year\n",
    "    \n",
    "    \n",
    "    df_copy['average_score'] = df_copy[['imdb_score', 'tmdb_score']].mean(axis=1) # calculating the average score of imdb_score and tmdb_score\n",
    "    \n",
    "    top_movies = df_copy.groupby('decade').apply(lambda x: x.nlargest(1, 'average_score'))  # Finding the movie with the highest average score in each decade\n",
    "    # groupby is used to grouping consecutive elements in an iterable that have the same value.\n",
    "    # the apply function will apply each element of the series to the lambda function and the lambda function will then return a value for each element based on the expression you passed it.\n",
    "    # .largest is used to return the  first n rows ordered by columns in descending order.\n",
    "    sorted_top_movies = top_movies.sort_values(by='average_score', ascending=False) # sorting the movies list in decending order\n",
    "    \n",
    "    return sorted_top_movies[['title', 'decade', 'imdb_score', 'tmdb_score', 'average_score']]\n",
    "\n",
    "top_movies_by_average_score_decade = top_movies_by_average_score_each_decade(df)\n",
    "top_movies_by_average_score_decade.reset_index(drop=True) # it will help to drop the current index and provies the new index starting with 0."
   ]
  },
  {
   "cell_type": "markdown",
   "id": "692ac4e2-b989-47f8-97b9-7a424d51cd65",
   "metadata": {},
   "source": [
    "Question 6: Name top 10 movies and shows with more IMDB Score."
   ]
  },
  {
   "cell_type": "code",
   "execution_count": 13,
   "id": "2d6146c3-445a-45a8-b218-1c72f598ba65",
   "metadata": {},
   "outputs": [
    {
     "data": {
      "text/html": [
       "<div>\n",
       "<style scoped>\n",
       "    .dataframe tbody tr th:only-of-type {\n",
       "        vertical-align: middle;\n",
       "    }\n",
       "\n",
       "    .dataframe tbody tr th {\n",
       "        vertical-align: top;\n",
       "    }\n",
       "\n",
       "    .dataframe thead th {\n",
       "        text-align: right;\n",
       "    }\n",
       "</style>\n",
       "<table border=\"1\" class=\"dataframe\">\n",
       "  <thead>\n",
       "    <tr style=\"text-align: right;\">\n",
       "      <th></th>\n",
       "      <th>Title</th>\n",
       "      <th>Type</th>\n",
       "      <th>IMDb Score</th>\n",
       "    </tr>\n",
       "  </thead>\n",
       "  <tbody>\n",
       "    <tr>\n",
       "      <th>0</th>\n",
       "      <td>Breaking Bad</td>\n",
       "      <td>SHOW</td>\n",
       "      <td>9.5</td>\n",
       "    </tr>\n",
       "    <tr>\n",
       "      <th>1</th>\n",
       "      <td>Our Planet</td>\n",
       "      <td>SHOW</td>\n",
       "      <td>9.3</td>\n",
       "    </tr>\n",
       "    <tr>\n",
       "      <th>2</th>\n",
       "      <td>Avatar: The Last Airbender</td>\n",
       "      <td>SHOW</td>\n",
       "      <td>9.3</td>\n",
       "    </tr>\n",
       "    <tr>\n",
       "      <th>3</th>\n",
       "      <td>Reply 1988</td>\n",
       "      <td>SHOW</td>\n",
       "      <td>9.2</td>\n",
       "    </tr>\n",
       "    <tr>\n",
       "      <th>4</th>\n",
       "      <td>The Last Dance</td>\n",
       "      <td>SHOW</td>\n",
       "      <td>9.1</td>\n",
       "    </tr>\n",
       "    <tr>\n",
       "      <th>5</th>\n",
       "      <td>Kota Factory</td>\n",
       "      <td>SHOW</td>\n",
       "      <td>9.1</td>\n",
       "    </tr>\n",
       "    <tr>\n",
       "      <th>6</th>\n",
       "      <td>My Mister</td>\n",
       "      <td>SHOW</td>\n",
       "      <td>9.1</td>\n",
       "    </tr>\n",
       "    <tr>\n",
       "      <th>7</th>\n",
       "      <td>Chhota Bheem &amp; Krishna vs Zimbara</td>\n",
       "      <td>MOVIE</td>\n",
       "      <td>9.1</td>\n",
       "    </tr>\n",
       "    <tr>\n",
       "      <th>8</th>\n",
       "      <td>Attack on Titan</td>\n",
       "      <td>SHOW</td>\n",
       "      <td>9.0</td>\n",
       "    </tr>\n",
       "    <tr>\n",
       "      <th>9</th>\n",
       "      <td>Leah Remini: Scientology and the Aftermath</td>\n",
       "      <td>SHOW</td>\n",
       "      <td>9.0</td>\n",
       "    </tr>\n",
       "  </tbody>\n",
       "</table>\n",
       "</div>"
      ],
      "text/plain": [
       "                                        Title   Type  IMDb Score\n",
       "0                                Breaking Bad   SHOW         9.5\n",
       "1                                  Our Planet   SHOW         9.3\n",
       "2                  Avatar: The Last Airbender   SHOW         9.3\n",
       "3                                  Reply 1988   SHOW         9.2\n",
       "4                              The Last Dance   SHOW         9.1\n",
       "5                                Kota Factory   SHOW         9.1\n",
       "6                                   My Mister   SHOW         9.1\n",
       "7           Chhota Bheem & Krishna vs Zimbara  MOVIE         9.1\n",
       "8                             Attack on Titan   SHOW         9.0\n",
       "9  Leah Remini: Scientology and the Aftermath   SHOW         9.0"
      ]
     },
     "execution_count": 13,
     "metadata": {},
     "output_type": "execute_result"
    }
   ],
   "source": [
    "sorted_df = df.sort_values(by='imdb_score', ascending=False) # Sorting the DataFrame by 'imdb_score' in descending order\n",
    "\n",
    "top_10_titles = [] # Initializing an empty list to store top 10 titles \n",
    "counter = 0 #  Initializing a counter\n",
    "\n",
    "for index, row in sorted_df.iterrows(): # Iterating over the sorted DataFrame\n",
    "    top_10_titles.append((row['title'], row['type'], row['imdb_score']))  # Adding title, type, and imdb_score to the list\n",
    "    # apply() method is used to apply a function along one of the axis of the dataframe.\n",
    "    counter += 1 # Incrementing the counter\n",
    "\n",
    "    if counter == 10: # Breaking the loop once 10 titles have been added\n",
    "        break\n",
    "\n",
    "top_10_titles_df = pd.DataFrame(top_10_titles, columns=['Title', 'Type', 'IMDb Score']) # Converting the list to a DataFrame for display\n",
    "\n",
    "top_10_titles_df\n"
   ]
  },
  {
   "cell_type": "markdown",
   "id": "be9b59b6-cf89-479e-bce5-56249c037a27",
   "metadata": {},
   "source": [
    "Question 7: Name top 3 production countries in the netflix  "
   ]
  },
  {
   "cell_type": "code",
   "execution_count": 14,
   "id": "4e018c0b-efd5-4733-b876-5cc7a10298ff",
   "metadata": {},
   "outputs": [
    {
     "data": {
      "text/plain": [
       "production_countries\n",
       "['US']    76.09%\n",
       "['IN']    12.72%\n",
       "['JP']    11.19%\n",
       "Name: count, dtype: object"
      ]
     },
     "execution_count": 14,
     "metadata": {},
     "output_type": "execute_result"
    }
   ],
   "source": [
    "production_country_counts = df['production_countries'].value_counts().head(3) # counting the top 3 different countries in the production_countries\n",
    "country_percentages = (production_country_counts/ production_country_counts.sum()) * 100  # converting the counts into percentage\n",
    "country_percentages = country_percentages.apply(lambda x: f\"{x:.2f}%\") # applying the percentage symbol to the percentage after two decimals\n",
    "country_percentages"
   ]
  },
  {
   "cell_type": "markdown",
   "id": "9ae68170-7d8a-489c-9944-5862280ce96f",
   "metadata": {},
   "source": [
    "Question 8 : What is the minimum and maximum imdb score and tmdb score that a show/movie got in the score."
   ]
  },
  {
   "cell_type": "code",
   "execution_count": 15,
   "id": "474c9a99-7096-43d8-a615-335779d3a62d",
   "metadata": {},
   "outputs": [
    {
     "name": "stdout",
     "output_type": "stream",
     "text": [
      "Minimum IMDB score of a movie/show in netflix history is: 1.5\n",
      "Maximum IMDB score of a movie/show in netflix history is: 9.5\n",
      "Minimum TMDB score of a movie/show in netflix history is: 0.5\n",
      "Maximum TMDB score of a movie/show in netflix history is: 10.0\n"
     ]
    }
   ],
   "source": [
    "min_imdbScore = np.min(df['imdb_score']) # finding min imdb_score\n",
    "max_imdbScore = np.max(df['imdb_score']) # finding max imdb_score\n",
    "min_tmdbScore = np.min(df['tmdb_score']) # finding min tmdb_score\n",
    "max_tmdbScore = np.max(df['tmdb_score']) # finding max tmdb_score\n",
    "print(\"Minimum IMDB score of a movie/show in netflix history is:\" , min_imdbScore)\n",
    "print(\"Maximum IMDB score of a movie/show in netflix history is:\" , max_imdbScore)\n",
    "print(\"Minimum TMDB score of a movie/show in netflix history is:\" , min_tmdbScore)\n",
    "print(\"Maximum TMDB score of a movie/show in netflix history is:\" , max_tmdbScore)"
   ]
  },
  {
   "cell_type": "markdown",
   "id": "33e848e3-d4b4-4d07-bc51-1de3fe4c1092",
   "metadata": {},
   "source": [
    "question 9: Compare IMDb and TMDb Scores of Top 10 Longest Runtime Movies in the netflix."
   ]
  },
  {
   "cell_type": "code",
   "execution_count": 16,
   "id": "b155009f-8deb-400e-b94c-74c53f0bf860",
   "metadata": {},
   "outputs": [
    {
     "data": {
      "image/png": "[encoded data removed]",
      "text/plain": [
       "<Figure size 1200x600 with 1 Axes>"
      ]
     },
     "metadata": {},
     "output_type": "display_data"
    }
   ],
   "source": [
    "top_10_movies_runtime = df[df['type'] == 'MOVIE'].nlargest(15, 'runtime') # Selecting the top 10 movies with the highest runtime\n",
    "\n",
    "# Plotting line charts for IMDb and TMDb scores of these movies\n",
    "plt.figure(figsize=(12, 6))\n",
    "\n",
    "# IMDb Score line chart\n",
    "plt.plot(top_10_movies_runtime['title'], top_10_movies_runtime['imdb_score'], label='IMDb Score', marker='o')\n",
    "\n",
    "# TMDb Score line chart\n",
    "plt.plot(top_10_movies_runtime['title'], top_10_movies_runtime['tmdb_score'], label='TMDb Score', marker='x')\n",
    "\n",
    "plt.title('IMDb and TMDb Scores of Top 10 Longest Runtime Movies')\n",
    "plt.xlabel('Movie Title')\n",
    "plt.ylabel('Score')\n",
    "plt.xticks(rotation= 45)\n",
    "plt.legend()\n",
    "plt.grid(True)\n",
    "plt.show()\n"
   ]
  },
  {
   "cell_type": "markdown",
   "id": "8db3487d-b742-4176-ab91-8d4952b9efc0",
   "metadata": {},
   "source": [
    "Question 10: Provide the list of the movies with R age cretification and runtime of two or more hours in a particular year. "
   ]
  },
  {
   "cell_type": "code",
   "execution_count": null,
   "id": "6a6283c4-65ac-45a3-911d-e9ce15a3ce0c",
   "metadata": {},
   "outputs": [],
   "source": [
    "target_year = int(input(\"Enter the year:\")) # user input for the entering the target year\n",
    "\n",
    "for index, row in df.iterrows():\n",
    "    if row['release_year'] == target_year: # finding the rows in the release_year which contains the target_year\n",
    "        if row['age_certification'] == 'R': # finding the rows in the age_certification which contains R\n",
    "            if row['runtime'] >= 120: #finding the rows of runtime >= 120\n",
    "                print(f\"Title released in {target_year} with 'R' rating: {row['title']}\")\n",
    "                break\n",
    "else:\n",
    "    print(\"no\")"
   ]
  },
  {
   "cell_type": "code",
   "execution_count": null,
   "id": "70f14679-4804-4974-b427-749fe288978c",
   "metadata": {},
   "outputs": [],
   "source": [
    "sorted_df = df.sort_values(by='runtime', ascending=False) \n",
    "sorted_df.head(20)"
   ]
  },
  {
   "cell_type": "code",
   "execution_count": null,
   "id": "39739407-a1e6-4bff-a51c-b6ec7dd3e76e",
   "metadata": {},
   "outputs": [],
   "source": [
    "max_tmdbScore = np.max(df['tmdb_score'])\n",
    "print(f\"Title released in {max_tmdbScore} with 'R' rating: {row['title']}\")"
   ]
  },
  {
   "cell_type": "code",
   "execution_count": null,
   "id": "ae679fbb-fa64-44dd-be4e-333acf1bfd67",
   "metadata": {},
   "outputs": [],
   "source": [
    "production_country_counts = df['genres'].value_counts().head(10) # counting the top 3 different countries in the production_countries\n",
    "country_percentages = (production_country_counts/ production_country_counts.sum()) * 100  # converting the counts into percentage\n",
    "country_percentages = country_percentages.apply(lambda x: f\"{x:.2f}%\") # applying the percentage symbol to the percentage after two decimals\n",
    "country_percentages"
   ]
  },
  {
   "cell_type": "code",
   "execution_count": null,
   "id": "ecb9f04d-c548-4d37-87c0-fdc3d22bab25",
   "metadata": {},
   "outputs": [],
   "source": []
  }
 ],
 "metadata": {
  "kernelspec": {
   "display_name": "Python [conda env:base] *",
   "language": "python",
   "name": "conda-base-py"
  },
  "language_info": {
   "codemirror_mode": {
    "name": "ipython",
    "version": 3
   },
   "file_extension": ".py",
   "mimetype": "text/x-python",
   "name": "python",
   "nbconvert_exporter": "python",
   "pygments_lexer": "ipython3",
   "version": "3.12.3"
  }
 },
 "nbformat": 4,
 "nbformat_minor": 5
}
